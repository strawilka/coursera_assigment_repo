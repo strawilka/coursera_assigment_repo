{
 "cells": [
  {
   "cell_type": "markdown",
   "id": "cc77552f-1c43-4e04-8ecf-b6fe1fd5fb4e",
   "metadata": {
    "tags": []
   },
   "source": [
    "# Data Science Tools and Ecosystem"
   ]
  },
  {
   "cell_type": "markdown",
   "id": "0ebd4dec-3066-4617-a358-6b358667dfd1",
   "metadata": {},
   "source": [
    "## Author \n",
    "Oleksandra Drachova"
   ]
  },
  {
   "cell_type": "markdown",
   "id": "4ed46a46-a6cb-448e-8436-b7d081c2e570",
   "metadata": {},
   "source": [
    "In this notebook, Data Science Tools and Ecosystem are summarized."
   ]
  },
  {
   "cell_type": "markdown",
   "id": "b2796a6a-e13b-464e-97b2-3b6d53cea15a",
   "metadata": {},
   "source": [
    "**Objectives:**\n",
    "- RStudio\n",
    "- Julia\n",
    "- Python\n",
    "- Scala\n"
   ]
  },
  {
   "cell_type": "markdown",
   "id": "0a5be5eb-ec30-4f9c-b0df-e12ea1247845",
   "metadata": {},
   "source": [
    "Some of the popular languages that Data Scientists use are:\n",
    "1. Python\n",
    "2. R\n",
    "3. Julia\n",
    "4. Scala\n",
    "5. JavaScript"
   ]
  },
  {
   "cell_type": "markdown",
   "id": "21f4a519-058e-4fb0-accc-bae1a54be732",
   "metadata": {},
   "source": [
    "Some of the commonly used libraries used by Data Scientists include:\n",
    "1. Pandas\n",
    "2. TensorFlow\n",
    "3. NumPy\n",
    "4. Keras"
   ]
  },
  {
   "cell_type": "markdown",
   "id": "5340652c-ed4b-4ad3-b611-d5a80fe0dd76",
   "metadata": {},
   "source": [
    "| Data Science Tools | \n",
    "--- | \n",
    "Jupiter Notebook | \n",
    "RStudio | \n",
    "Apache Sparkle |"
   ]
  },
  {
   "cell_type": "markdown",
   "id": "e69f23cd-b82f-4e3b-a908-013ccafc7017",
   "metadata": {},
   "source": [
    "### Below are a few examples of evaluating arithmetic expressions in Python."
   ]
  },
  {
   "cell_type": "code",
   "execution_count": 15,
   "id": "5ee97ae4-2fde-4d0f-b25c-a87233009dce",
   "metadata": {
    "tags": []
   },
   "outputs": [
    {
     "data": {
      "text/plain": [
       "17"
      ]
     },
     "execution_count": 15,
     "metadata": {},
     "output_type": "execute_result"
    }
   ],
   "source": [
    "# Insert a comment line before the expression to explain the operation e.g.  This a simple arithmetic expression to mutiply then add integers.\n",
    "\n",
    "(3*4)+5\n"
   ]
  },
  {
   "cell_type": "code",
   "execution_count": 18,
   "id": "ff987ca4-9cad-4248-9d68-a3b3c9460d62",
   "metadata": {},
   "outputs": [
    {
     "name": "stdout",
     "output_type": "stream",
     "text": [
      "3\n"
     ]
    }
   ],
   "source": [
    "#This will convert 200 minutes to hours by diving by 60\n",
    "\n",
    "\n",
    "print(int(200/60))\n"
   ]
  },
  {
   "cell_type": "code",
   "execution_count": null,
   "id": "2417407e-88f9-4f6e-9c1a-9743b38718c5",
   "metadata": {},
   "outputs": [],
   "source": []
  }
 ],
 "metadata": {
  "kernelspec": {
   "display_name": "Python",
   "language": "python",
   "name": "conda-env-python-py"
  },
  "language_info": {
   "codemirror_mode": {
    "name": "ipython",
    "version": 3
   },
   "file_extension": ".py",
   "mimetype": "text/x-python",
   "name": "python",
   "nbconvert_exporter": "python",
   "pygments_lexer": "ipython3",
   "version": "3.7.12"
  }
 },
 "nbformat": 4,
 "nbformat_minor": 5
}
